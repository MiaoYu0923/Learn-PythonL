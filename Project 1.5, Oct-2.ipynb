{
 "cells": [
  {
   "cell_type": "code",
   "id": "initial_id",
   "metadata": {
    "collapsed": true,
    "ExecuteTime": {
     "end_time": "2025-10-02T12:21:54.665583Z",
     "start_time": "2025-10-02T12:21:48.362279Z"
    }
   },
   "source": [
    "# get miles\n",
    "miles = int(input(\"Enter Miles: \"))\n",
    "# get miles per hour\n",
    "miles_per_hour = int(input(\"Enter Miles per Hour: \"))\n",
    "# time it will take\n",
    "hours = int(miles // miles_per_hour)\n",
    "mins = int(miles % miles_per_hour)\n",
    "# print them all\n",
    "print(\"Travel Time Calculator\")\n",
    "print()\n",
    "print(\"Enter miles: \" + str(miles))\n",
    "print(\"Enter miles per hour: \" + str(hours))\n",
    "print()\n",
    "print(\"Estimated travel time\")\n",
    "print(\"Hours: \" + str(hours))\n",
    "print(\"Minutes: \" + str(mins))\n"
   ],
   "outputs": [
    {
     "name": "stdout",
     "output_type": "stream",
     "text": [
      "Travel Time Calculator\n",
      "\n",
      "Enter miles: 200\n",
      "Enter miles per hour: 3\n",
      "\n",
      "Estimated travel time\n",
      "Hours: 3\n",
      "Minutes: 5\n"
     ]
    }
   ],
   "execution_count": 1
  },
  {
   "metadata": {},
   "cell_type": "code",
   "outputs": [],
   "execution_count": null,
   "source": "",
   "id": "ecefb81cea1d5b8"
  }
 ],
 "metadata": {
  "kernelspec": {
   "display_name": "Python 3",
   "language": "python",
   "name": "python3"
  },
  "language_info": {
   "codemirror_mode": {
    "name": "ipython",
    "version": 2
   },
   "file_extension": ".py",
   "mimetype": "text/x-python",
   "name": "python",
   "nbconvert_exporter": "python",
   "pygments_lexer": "ipython2",
   "version": "2.7.6"
  }
 },
 "nbformat": 4,
 "nbformat_minor": 5
}
