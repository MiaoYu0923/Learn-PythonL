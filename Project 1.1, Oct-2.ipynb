{
 "cells": [
  {
   "cell_type": "code",
   "id": "initial_id",
   "metadata": {
    "collapsed": true,
    "ExecuteTime": {
     "end_time": "2025-10-02T11:17:19.099152Z",
     "start_time": "2025-10-02T11:16:57.630070Z"
    }
   },
   "source": [
    "First_Name = input(\"Please type your first name: \")\n",
    "Last_Name = input(\"Please type your last name: \")\n",
    "Birth_Year = input(\"Please type your birth year: \")\n",
    "print(\"Registration Form\")\n",
    "print()\n",
    "print(\"First Name:\", First_Name)\n",
    "print(\"Last Name:\", Last_Name)\n",
    "print(\"Birth Year:\", Birth_Year)\n",
    "print()\n",
    "print(\"Welcome \" + First_Name + \" \" + Last_Name + \"!\")\n",
    "print(\"Your registration is complete.\")\n",
    "print(\"Your temporary password is: \" + First_Name + \"*\" + Birth_Year)"
   ],
   "outputs": [
    {
     "name": "stdout",
     "output_type": "stream",
     "text": [
      "Registration Form\n",
      "\n",
      "First Name: Eric\n",
      "Last Name: Idle\n",
      "Birth Year: 1934\n",
      "\n",
      "Welcome Eric Idle!\n",
      "Your registration is complete.\n",
      "Your temporary password is: Eric*1934\n"
     ]
    }
   ],
   "execution_count": 1
  }
 ],
 "metadata": {
  "kernelspec": {
   "display_name": "Python 3",
   "language": "python",
   "name": "python3"
  },
  "language_info": {
   "codemirror_mode": {
    "name": "ipython",
    "version": 2
   },
   "file_extension": ".py",
   "mimetype": "text/x-python",
   "name": "python",
   "nbconvert_exporter": "python",
   "pygments_lexer": "ipython2",
   "version": "2.7.6"
  }
 },
 "nbformat": 4,
 "nbformat_minor": 5
}
