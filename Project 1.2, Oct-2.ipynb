{
 "cells": [
  {
   "cell_type": "code",
   "id": "initial_id",
   "metadata": {
    "collapsed": true,
    "ExecuteTime": {
     "end_time": "2025-10-02T11:45:04.353862Z",
     "start_time": "2025-10-02T11:44:52.669563Z"
    }
   },
   "source": [
    "hours_worked = int(input(\"Please type in your working hours\"))\n",
    "hourly_pay_rate = float(input(\"Please type in your hourly pay rate\"))\n",
    "gross_pay = hours_worked * hourly_pay_rate\n",
    "tax_rate = int(input(\"Please type in your tax rate\"))\n",
    "tax_amount = gross_pay * (tax_rate / 100)\n",
    "take_home_pay = gross_pay - tax_amount\n",
    "print(\"Pay Check Calculator\")\n",
    "print()\n",
    "print(\"Hours Worked: \\t\" + str(hours_worked))\n",
    "print(\"Hourly Pay Rate: \" + str(hourly_pay_rate))\n",
    "print()\n",
    "print(\"Gross Pay: \\t\\t\" + str(gross_pay))\n",
    "print(\"Tax Rate: \\t\\t\" + str(tax_rate) + \"%\")\n",
    "print(\"Tax Amount: \\t\" + str(tax_amount))\n",
    "print(\"Take Home Pay: \\t\" + str(take_home_pay))\n",
    "\n"
   ],
   "outputs": [
    {
     "name": "stdout",
     "output_type": "stream",
     "text": [
      "Pay Check Calculator\n",
      "\n",
      "Hours Worked: \t35\n",
      "Hourly Pay Rate: 14.5\n",
      "\n",
      "Gross Pay: \t\t507.5\n",
      "Tax Rate: \t\t18%\n",
      "Tax Amount: \t91.35\n",
      "Take Home Pay: \t416.15\n"
     ]
    }
   ],
   "execution_count": 1
  },
  {
   "metadata": {
    "ExecuteTime": {
     "end_time": "2025-10-02T11:35:23.502244Z",
     "start_time": "2025-10-02T11:35:23.499788Z"
    }
   },
   "cell_type": "code",
   "source": "",
   "id": "bb6991682f19005d",
   "outputs": [],
   "execution_count": null
  },
  {
   "metadata": {
    "ExecuteTime": {
     "end_time": "2025-10-02T11:35:33.507956Z",
     "start_time": "2025-10-02T11:35:33.503495Z"
    }
   },
   "cell_type": "code",
   "source": "",
   "id": "925434703cb6d024",
   "outputs": [],
   "execution_count": null
  },
  {
   "metadata": {},
   "cell_type": "code",
   "outputs": [],
   "execution_count": null,
   "source": "",
   "id": "f3ca62d08731d843"
  }
 ],
 "metadata": {
  "kernelspec": {
   "display_name": "Python 3",
   "language": "python",
   "name": "python3"
  },
  "language_info": {
   "codemirror_mode": {
    "name": "ipython",
    "version": 2
   },
   "file_extension": ".py",
   "mimetype": "text/x-python",
   "name": "python",
   "nbconvert_exporter": "python",
   "pygments_lexer": "ipython2",
   "version": "2.7.6"
  }
 },
 "nbformat": 4,
 "nbformat_minor": 5
}
