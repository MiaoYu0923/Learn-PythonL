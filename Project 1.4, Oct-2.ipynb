{
 "cells": [
  {
   "cell_type": "code",
   "id": "initial_id",
   "metadata": {
    "collapsed": true,
    "ExecuteTime": {
     "end_time": "2025-10-02T12:12:10.530926Z",
     "start_time": "2025-10-02T12:11:52.582779Z"
    }
   },
   "source": [
    "#get prices\n",
    "first_price = float(input(\"Enter the first price: \"))\n",
    "second_price = float(input(\"Enter the second price: \"))\n",
    "#get ounces\n",
    "first_ounce = int(input(\"Enter the first ounce: \"))\n",
    "second_ounce = int(input(\"Enter the second ounce: \"))\n",
    "#get price per ounce\n",
    "first_price_per_ounce = round(first_price / first_ounce,2)\n",
    "second_price_per_ounce = round(second_price / second_ounce, 2)\n",
    "#print all\n",
    "print(\"Price Comparison\")\n",
    "print()\n",
    "print(\"Price of \" + str(first_ounce) + \" oz size: \" + str(first_price))\n",
    "print(\"Price of \" + str(second_ounce) + \" oz suze: \" + str(second_price))\n",
    "print()\n",
    "print(\"Price per oz (\" + str(first_ounce) + \" oz): \" + str(first_price_per_ounce))\n",
    "print(\"Price per oz (\" + str(second_ounce) + \" oz): \" + str(second_price_per_ounce))"
   ],
   "outputs": [
    {
     "name": "stdout",
     "output_type": "stream",
     "text": [
      "Price Comparison\n",
      "\n",
      "Price of 64 oz size: 5.99\n",
      "Price of 32 oz suze: 3.5\n",
      "\n",
      "Price per oz (64 oz): 0.09\n",
      "Price per oz (32 oz): 0.11\n"
     ]
    }
   ],
   "execution_count": 2
  },
  {
   "metadata": {},
   "cell_type": "code",
   "outputs": [],
   "execution_count": null,
   "source": "",
   "id": "a64925a54b80d084"
  }
 ],
 "metadata": {
  "kernelspec": {
   "display_name": "Python 3",
   "language": "python",
   "name": "python3"
  },
  "language_info": {
   "codemirror_mode": {
    "name": "ipython",
    "version": 2
   },
   "file_extension": ".py",
   "mimetype": "text/x-python",
   "name": "python",
   "nbconvert_exporter": "python",
   "pygments_lexer": "ipython2",
   "version": "2.7.6"
  }
 },
 "nbformat": 4,
 "nbformat_minor": 5
}
