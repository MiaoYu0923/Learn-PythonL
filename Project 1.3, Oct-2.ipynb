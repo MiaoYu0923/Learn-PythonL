{
 "cells": [
  {
   "cell_type": "code",
   "id": "initial_id",
   "metadata": {
    "collapsed": true,
    "ExecuteTime": {
     "end_time": "2025-10-02T12:00:10.132686Z",
     "start_time": "2025-10-02T12:00:03.733906Z"
    }
   },
   "source": [
    "#need cost of your meal\n",
    "meal_cost = float(input(\"Please type the cost of your meal:\"))\n",
    "#need tip%\n",
    "tip_percent = int(input(\"Please type the percent of your meal's tip you need to pay for:\"))\n",
    "#calculate tip amount\n",
    "tip_amount = round(float(meal_cost * tip_percent /100),2)\n",
    "#calculate total amount\n",
    "total_cost = round(float(meal_cost + tip_amount),2)\n",
    "print(\"Tip Calculator\")\n",
    "print(\"Cost of meal: \\t\" + str(meal_cost))\n",
    "print(\"Tip percent: \\t\" + str(tip_percent))\n",
    "print()\n",
    "print(\"Tip amount: \\t\" + str(tip_amount))\n",
    "print(\"Total amount: \\t\" + str(total_cost))"
   ],
   "outputs": [
    {
     "name": "stdout",
     "output_type": "stream",
     "text": [
      "Tip Calculator\n",
      "Cost of meal: \t52.31\n",
      "Tip percent: \t20\n",
      "\n",
      "Tip amount: \t10.46\n",
      "Total amount: \t62.77\n"
     ]
    }
   ],
   "execution_count": 8
  },
  {
   "metadata": {},
   "cell_type": "code",
   "outputs": [],
   "execution_count": null,
   "source": "",
   "id": "e4d089f83036f2cc"
  }
 ],
 "metadata": {
  "kernelspec": {
   "display_name": "Python 3",
   "language": "python",
   "name": "python3"
  },
  "language_info": {
   "codemirror_mode": {
    "name": "ipython",
    "version": 2
   },
   "file_extension": ".py",
   "mimetype": "text/x-python",
   "name": "python",
   "nbconvert_exporter": "python",
   "pygments_lexer": "ipython2",
   "version": "2.7.6"
  }
 },
 "nbformat": 4,
 "nbformat_minor": 5
}
